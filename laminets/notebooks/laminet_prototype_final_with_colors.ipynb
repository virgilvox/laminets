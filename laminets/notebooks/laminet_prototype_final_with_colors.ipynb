{
 "cells": [
  {
   "cell_type": "markdown",
   "metadata": {},
   "source": [
    "# Laminet Prototype: Field Evolution Model (with Curated 10k Dataset + Color Visualization)"
   ]
  },
  {
   "cell_type": "code",
   "execution_count": null,
   "metadata": {},
   "outputs": [],
   "source": [
    "# Install dependencies\n",
    "!pip install torch matplotlib numpy"
   ]
  },
  {
   "cell_type": "code",
   "execution_count": null,
   "metadata": {},
   "outputs": [],
   "source": [
    "# Imports\n",
    "import torch\n",
    "import torch.nn as nn\n",
    "import torch.optim as optim\n",
    "import matplotlib.pyplot as plt\n",
    "import numpy as np\n",
    "import random\n",
    "import json\n",
    "from tqdm import tqdm\n",
    "from IPython.display import clear_output\n",
    "import matplotlib.animation as animation"
   ]
  },
  {
   "cell_type": "code",
   "execution_count": null,
   "metadata": {},
   "outputs": [],
   "source": [
    "# Load curated dataset\n",
    "with open('/mnt/data/laminet_10k_curated.json', 'r') as f:\n",
    "    data = json.load(f)\n",
    "
",
    "themes = sorted(list(set([item['label'] for item in data])))"
   ]
  },
  {
   "cell_type": "code",
   "execution_count": null,
   "metadata": {},
   "outputs": [],
   "source": [
    "# Define FieldPoint and LaminaField with Evolution\n",
    "class FieldPoint(nn.Module):\n",
    "    def __init__(self, embed_dim):\n",
    "        super().__init__()\n",
    "        self.position = nn.Parameter(torch.randn(embed_dim))\n",
    "        self.velocity = nn.Parameter(torch.zeros(embed_dim))\n",
    "        self.mass = nn.Parameter(torch.ones(1))\n",
    "        self.charge = nn.Parameter(torch.randn(1))\n",
    "        self.decay_rate = nn.Parameter(torch.abs(torch.randn(1)))\n",
    "
",
    "class LaminaField(nn.Module):\n",
    "    def __init__(self, embeddings):\n",
    "        super().__init__()\n",
    "        self.points = nn.ModuleList([FieldPoint(embeddings.shape[1]) for _ in range(len(embeddings))])\n",
    "        self.embed_points(embeddings)\n",
    "
",
    "    def embed_points(self, embeddings):\n",
    "        for point, embed in zip(self.points, embeddings):\n",
    "            point.position.data = embed
",
    "
",
    "    def evolve(self, dt=0.01, steps=50, record_positions=False):\n",
    "        trajectory = []\n",
    "        for _ in range(steps):\n",
    "            if record_positions:\n",
    "                current_positions = torch.stack([p.position for p in self.points]).detach().cpu().numpy()
",
    "                trajectory.append(current_positions)
",
    "            for idx, point in enumerate(self.points):\n",
    "                net_force = self.compute_net_force(idx)\n",
    "                point.velocity = point.velocity + net_force * dt\n",
    "                point.position = point.position + point.velocity * dt\n",
    "                point.velocity *= (1.0 - point.decay_rate.abs() * dt)\n",
    "        if record_positions:\n",
    "            return trajectory
",
    "        else:\n",
    "            return None
",
    "
",
    "    def compute_net_force(self, idx):\n",
    "        net_force = 0\n",
    "        point = self.points[idx]\n",
    "        for j, other in enumerate(self.points):\n",
    "            if j == idx:\n",
    "                continue\n",
    "            direction = other.position - point.position\n",
    "            distance = direction.norm(p=2) + 1e-6\n",
    "            force_mag = (point.charge * other.charge) / (distance**2)\n",
    "            net_force += (force_mag * direction / distance)\n",
    "        return net_force"
   ]
  },
  {
   "cell_type": "code",
   "execution_count": null,
   "metadata": {},
   "outputs": [],
   "source": [
    "# Define LaminetMicro Model\n",
    "class LaminetMicro(nn.Module):\n",
    "    def __init__(self, embed_dim=64, output_dim=6):\n",
    "        super().__init__()\n",
    "        self.embedding = nn.Linear(128, embed_dim)\n",
    "        self.decoder = nn.Linear(embed_dim, output_dim)\n",
    "
",
    "    def forward(self, x, evolution_steps=50, record_positions=False):\n",
    "        x_embed = self.embedding(x)\n",
    "        field = LaminaField(x_embed)\n",
    "        trajectory = field.evolve(steps=evolution_steps, record_positions=record_positions)\n",
    "        final_pos = torch.stack([p.position for p in field.points], dim=0)\n",
    "        output = self.decoder(final_pos.mean(dim=0))\n",
    "        return output, trajectory"
   ]
  },
  {
   "cell_type": "code",
   "execution_count": null,
   "metadata": {},
   "outputs": [],
   "source": [
    "# Visualize Field Evolution with Colors\n",
    "def animate_field(trajectory, labels, label_to_color):\n",
    "    fig, ax = plt.subplots(figsize=(6,6))\n",
    "    scat = ax.scatter([], [], c=[])\n",
    "
",
    "    def init():\n",
    "        ax.set_xlim(-5,5)\n",
    "        ax.set_ylim(-5,5)\n",
    "        return scat,
",
    "
",
    "    def update(frame):\n",
    "        positions = trajectory[frame]
",
    "        if positions.shape[1] > 2:
",
    "            positions = positions[:, :2]
",
    "        colors = [label_to_color[lbl] for lbl in labels]
",
    "        scat.set_offsets(positions)
",
    "        scat.set_color(colors)
",
    "        return scat,
",
    "
",
    "    ani = animation.FuncAnimation(fig, update, frames=len(trajectory), init_func=init, blit=True)
",
    "    plt.show()
",
    "    return ani"
   ]
  },
  {
   "cell_type": "code",
   "execution_count": null,
   "metadata": {},
   "outputs": [],
   "source": [
    "# Simple One-Shot Visualization
",
    "device = torch.device("cuda" if torch.cuda.is_available() else "cpu")\n",
    "model = LaminetMicro(output_dim=len(themes)).to(device)\n",
    "
",
    "# Generate random batch
",
    "batch = random.sample(data, 32)
",
    "inputs = torch.randn(32, 128).to(device)
",
    "batch_labels = [item['label'] for item in batch]
",
    "
",
    "theme_colors = {
",
    "    'Discovery': 'green',
",
    "    'Love Story': 'pink',
",
    "    'Mystery': 'purple',
",
    "    'Quest': 'blue',
",
    "    'Revenge': 'red',
",
    "    'Science': 'orange'
",
    "}
",
    "
",
    "model.eval()
",
    "with torch.no_grad():
",
    "    output, trajectory = model(inputs, evolution_steps=50, record_positions=True)
",
    "animate_field(trajectory, batch_labels, theme_colors)
"
   ]
  }
 ],
 "metadata": {
  "kernelspec": {
   "display_name": "Python 3",
   "language": "python",
   "name": "python3"
  },
  "language_info": {
   "name": "python",
   "version": "3.8"
  }
 },
 "nbformat": 4,
 "nbformat_minor": 4
}
