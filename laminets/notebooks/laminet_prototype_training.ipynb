{
  "cells": [
    {
      "cell_type": "markdown",
      "id": "a23f6e4f",
      "metadata": {
        "id": "a23f6e4f"
      },
      "source": [
        "# Laminet Prototype: Real Training with Coherence Loss (Curated 10k Dataset + Field Visualization)"
      ]
    },
    {
      "cell_type": "code",
      "execution_count": 1,
      "id": "6e8685a2",
      "metadata": {
        "colab": {
          "base_uri": "https://localhost:8080/"
        },
        "id": "6e8685a2",
        "outputId": "f7af2c14-9bf6-45b3-d3ac-443689ce58d9"
      },
      "outputs": [
        {
          "output_type": "stream",
          "name": "stdout",
          "text": [
            "Requirement already satisfied: torch in /usr/local/lib/python3.11/dist-packages (2.6.0+cu124)\n",
            "Requirement already satisfied: matplotlib in /usr/local/lib/python3.11/dist-packages (3.10.0)\n",
            "Requirement already satisfied: numpy in /usr/local/lib/python3.11/dist-packages (2.0.2)\n",
            "Requirement already satisfied: tqdm in /usr/local/lib/python3.11/dist-packages (4.67.1)\n",
            "Requirement already satisfied: filelock in /usr/local/lib/python3.11/dist-packages (from torch) (3.18.0)\n",
            "Requirement already satisfied: typing-extensions>=4.10.0 in /usr/local/lib/python3.11/dist-packages (from torch) (4.13.2)\n",
            "Requirement already satisfied: networkx in /usr/local/lib/python3.11/dist-packages (from torch) (3.4.2)\n",
            "Requirement already satisfied: jinja2 in /usr/local/lib/python3.11/dist-packages (from torch) (3.1.6)\n",
            "Requirement already satisfied: fsspec in /usr/local/lib/python3.11/dist-packages (from torch) (2025.3.2)\n",
            "Collecting nvidia-cuda-nvrtc-cu12==12.4.127 (from torch)\n",
            "  Downloading nvidia_cuda_nvrtc_cu12-12.4.127-py3-none-manylinux2014_x86_64.whl.metadata (1.5 kB)\n",
            "Collecting nvidia-cuda-runtime-cu12==12.4.127 (from torch)\n",
            "  Downloading nvidia_cuda_runtime_cu12-12.4.127-py3-none-manylinux2014_x86_64.whl.metadata (1.5 kB)\n",
            "Collecting nvidia-cuda-cupti-cu12==12.4.127 (from torch)\n",
            "  Downloading nvidia_cuda_cupti_cu12-12.4.127-py3-none-manylinux2014_x86_64.whl.metadata (1.6 kB)\n",
            "Collecting nvidia-cudnn-cu12==9.1.0.70 (from torch)\n",
            "  Downloading nvidia_cudnn_cu12-9.1.0.70-py3-none-manylinux2014_x86_64.whl.metadata (1.6 kB)\n",
            "Collecting nvidia-cublas-cu12==12.4.5.8 (from torch)\n",
            "  Downloading nvidia_cublas_cu12-12.4.5.8-py3-none-manylinux2014_x86_64.whl.metadata (1.5 kB)\n",
            "Collecting nvidia-cufft-cu12==11.2.1.3 (from torch)\n",
            "  Downloading nvidia_cufft_cu12-11.2.1.3-py3-none-manylinux2014_x86_64.whl.metadata (1.5 kB)\n",
            "Collecting nvidia-curand-cu12==10.3.5.147 (from torch)\n",
            "  Downloading nvidia_curand_cu12-10.3.5.147-py3-none-manylinux2014_x86_64.whl.metadata (1.5 kB)\n",
            "Collecting nvidia-cusolver-cu12==11.6.1.9 (from torch)\n",
            "  Downloading nvidia_cusolver_cu12-11.6.1.9-py3-none-manylinux2014_x86_64.whl.metadata (1.6 kB)\n",
            "Collecting nvidia-cusparse-cu12==12.3.1.170 (from torch)\n",
            "  Downloading nvidia_cusparse_cu12-12.3.1.170-py3-none-manylinux2014_x86_64.whl.metadata (1.6 kB)\n",
            "Requirement already satisfied: nvidia-cusparselt-cu12==0.6.2 in /usr/local/lib/python3.11/dist-packages (from torch) (0.6.2)\n",
            "Requirement already satisfied: nvidia-nccl-cu12==2.21.5 in /usr/local/lib/python3.11/dist-packages (from torch) (2.21.5)\n",
            "Requirement already satisfied: nvidia-nvtx-cu12==12.4.127 in /usr/local/lib/python3.11/dist-packages (from torch) (12.4.127)\n",
            "Collecting nvidia-nvjitlink-cu12==12.4.127 (from torch)\n",
            "  Downloading nvidia_nvjitlink_cu12-12.4.127-py3-none-manylinux2014_x86_64.whl.metadata (1.5 kB)\n",
            "Requirement already satisfied: triton==3.2.0 in /usr/local/lib/python3.11/dist-packages (from torch) (3.2.0)\n",
            "Requirement already satisfied: sympy==1.13.1 in /usr/local/lib/python3.11/dist-packages (from torch) (1.13.1)\n",
            "Requirement already satisfied: mpmath<1.4,>=1.1.0 in /usr/local/lib/python3.11/dist-packages (from sympy==1.13.1->torch) (1.3.0)\n",
            "Requirement already satisfied: contourpy>=1.0.1 in /usr/local/lib/python3.11/dist-packages (from matplotlib) (1.3.2)\n",
            "Requirement already satisfied: cycler>=0.10 in /usr/local/lib/python3.11/dist-packages (from matplotlib) (0.12.1)\n",
            "Requirement already satisfied: fonttools>=4.22.0 in /usr/local/lib/python3.11/dist-packages (from matplotlib) (4.57.0)\n",
            "Requirement already satisfied: kiwisolver>=1.3.1 in /usr/local/lib/python3.11/dist-packages (from matplotlib) (1.4.8)\n",
            "Requirement already satisfied: packaging>=20.0 in /usr/local/lib/python3.11/dist-packages (from matplotlib) (24.2)\n",
            "Requirement already satisfied: pillow>=8 in /usr/local/lib/python3.11/dist-packages (from matplotlib) (11.1.0)\n",
            "Requirement already satisfied: pyparsing>=2.3.1 in /usr/local/lib/python3.11/dist-packages (from matplotlib) (3.2.3)\n",
            "Requirement already satisfied: python-dateutil>=2.7 in /usr/local/lib/python3.11/dist-packages (from matplotlib) (2.8.2)\n",
            "Requirement already satisfied: six>=1.5 in /usr/local/lib/python3.11/dist-packages (from python-dateutil>=2.7->matplotlib) (1.17.0)\n",
            "Requirement already satisfied: MarkupSafe>=2.0 in /usr/local/lib/python3.11/dist-packages (from jinja2->torch) (3.0.2)\n",
            "Downloading nvidia_cublas_cu12-12.4.5.8-py3-none-manylinux2014_x86_64.whl (363.4 MB)\n",
            "\u001b[2K   \u001b[90m━━━━━━━━━━━━━━━━━━━━━━━━━━━━━━━━━━━━━━━━\u001b[0m \u001b[32m363.4/363.4 MB\u001b[0m \u001b[31m3.9 MB/s\u001b[0m eta \u001b[36m0:00:00\u001b[0m\n",
            "\u001b[?25hDownloading nvidia_cuda_cupti_cu12-12.4.127-py3-none-manylinux2014_x86_64.whl (13.8 MB)\n",
            "\u001b[2K   \u001b[90m━━━━━━━━━━━━━━━━━━━━━━━━━━━━━━━━━━━━━━━━\u001b[0m \u001b[32m13.8/13.8 MB\u001b[0m \u001b[31m125.4 MB/s\u001b[0m eta \u001b[36m0:00:00\u001b[0m\n",
            "\u001b[?25hDownloading nvidia_cuda_nvrtc_cu12-12.4.127-py3-none-manylinux2014_x86_64.whl (24.6 MB)\n",
            "\u001b[2K   \u001b[90m━━━━━━━━━━━━━━━━━━━━━━━━━━━━━━━━━━━━━━━━\u001b[0m \u001b[32m24.6/24.6 MB\u001b[0m \u001b[31m94.9 MB/s\u001b[0m eta \u001b[36m0:00:00\u001b[0m\n",
            "\u001b[?25hDownloading nvidia_cuda_runtime_cu12-12.4.127-py3-none-manylinux2014_x86_64.whl (883 kB)\n",
            "\u001b[2K   \u001b[90m━━━━━━━━━━━━━━━━━━━━━━━━━━━━━━━━━━━━━━━━\u001b[0m \u001b[32m883.7/883.7 kB\u001b[0m \u001b[31m57.7 MB/s\u001b[0m eta \u001b[36m0:00:00\u001b[0m\n",
            "\u001b[?25hDownloading nvidia_cudnn_cu12-9.1.0.70-py3-none-manylinux2014_x86_64.whl (664.8 MB)\n",
            "\u001b[2K   \u001b[90m━━━━━━━━━━━━━━━━━━━━━━━━━━━━━━━━━━━━━━━━\u001b[0m \u001b[32m664.8/664.8 MB\u001b[0m \u001b[31m1.4 MB/s\u001b[0m eta \u001b[36m0:00:00\u001b[0m\n",
            "\u001b[?25hDownloading nvidia_cufft_cu12-11.2.1.3-py3-none-manylinux2014_x86_64.whl (211.5 MB)\n",
            "\u001b[2K   \u001b[90m━━━━━━━━━━━━━━━━━━━━━━━━━━━━━━━━━━━━━━━━\u001b[0m \u001b[32m211.5/211.5 MB\u001b[0m \u001b[31m5.6 MB/s\u001b[0m eta \u001b[36m0:00:00\u001b[0m\n",
            "\u001b[?25hDownloading nvidia_curand_cu12-10.3.5.147-py3-none-manylinux2014_x86_64.whl (56.3 MB)\n",
            "\u001b[2K   \u001b[90m━━━━━━━━━━━━━━━━━━━━━━━━━━━━━━━━━━━━━━━━\u001b[0m \u001b[32m56.3/56.3 MB\u001b[0m \u001b[31m12.1 MB/s\u001b[0m eta \u001b[36m0:00:00\u001b[0m\n",
            "\u001b[?25hDownloading nvidia_cusolver_cu12-11.6.1.9-py3-none-manylinux2014_x86_64.whl (127.9 MB)\n",
            "\u001b[2K   \u001b[90m━━━━━━━━━━━━━━━━━━━━━━━━━━━━━━━━━━━━━━━━\u001b[0m \u001b[32m127.9/127.9 MB\u001b[0m \u001b[31m7.5 MB/s\u001b[0m eta \u001b[36m0:00:00\u001b[0m\n",
            "\u001b[?25hDownloading nvidia_cusparse_cu12-12.3.1.170-py3-none-manylinux2014_x86_64.whl (207.5 MB)\n",
            "\u001b[2K   \u001b[90m━━━━━━━━━━━━━━━━━━━━━━━━━━━━━━━━━━━━━━━━\u001b[0m \u001b[32m207.5/207.5 MB\u001b[0m \u001b[31m5.5 MB/s\u001b[0m eta \u001b[36m0:00:00\u001b[0m\n",
            "\u001b[?25hDownloading nvidia_nvjitlink_cu12-12.4.127-py3-none-manylinux2014_x86_64.whl (21.1 MB)\n",
            "\u001b[2K   \u001b[90m━━━━━━━━━━━━━━━━━━━━━━━━━━━━━━━━━━━━━━━━\u001b[0m \u001b[32m21.1/21.1 MB\u001b[0m \u001b[31m107.0 MB/s\u001b[0m eta \u001b[36m0:00:00\u001b[0m\n",
            "\u001b[?25hInstalling collected packages: nvidia-nvjitlink-cu12, nvidia-curand-cu12, nvidia-cufft-cu12, nvidia-cuda-runtime-cu12, nvidia-cuda-nvrtc-cu12, nvidia-cuda-cupti-cu12, nvidia-cublas-cu12, nvidia-cusparse-cu12, nvidia-cudnn-cu12, nvidia-cusolver-cu12\n",
            "  Attempting uninstall: nvidia-nvjitlink-cu12\n",
            "    Found existing installation: nvidia-nvjitlink-cu12 12.5.82\n",
            "    Uninstalling nvidia-nvjitlink-cu12-12.5.82:\n",
            "      Successfully uninstalled nvidia-nvjitlink-cu12-12.5.82\n",
            "  Attempting uninstall: nvidia-curand-cu12\n",
            "    Found existing installation: nvidia-curand-cu12 10.3.6.82\n",
            "    Uninstalling nvidia-curand-cu12-10.3.6.82:\n",
            "      Successfully uninstalled nvidia-curand-cu12-10.3.6.82\n",
            "  Attempting uninstall: nvidia-cufft-cu12\n",
            "    Found existing installation: nvidia-cufft-cu12 11.2.3.61\n",
            "    Uninstalling nvidia-cufft-cu12-11.2.3.61:\n",
            "      Successfully uninstalled nvidia-cufft-cu12-11.2.3.61\n",
            "  Attempting uninstall: nvidia-cuda-runtime-cu12\n",
            "    Found existing installation: nvidia-cuda-runtime-cu12 12.5.82\n",
            "    Uninstalling nvidia-cuda-runtime-cu12-12.5.82:\n",
            "      Successfully uninstalled nvidia-cuda-runtime-cu12-12.5.82\n",
            "  Attempting uninstall: nvidia-cuda-nvrtc-cu12\n",
            "    Found existing installation: nvidia-cuda-nvrtc-cu12 12.5.82\n",
            "    Uninstalling nvidia-cuda-nvrtc-cu12-12.5.82:\n",
            "      Successfully uninstalled nvidia-cuda-nvrtc-cu12-12.5.82\n",
            "  Attempting uninstall: nvidia-cuda-cupti-cu12\n",
            "    Found existing installation: nvidia-cuda-cupti-cu12 12.5.82\n",
            "    Uninstalling nvidia-cuda-cupti-cu12-12.5.82:\n",
            "      Successfully uninstalled nvidia-cuda-cupti-cu12-12.5.82\n",
            "  Attempting uninstall: nvidia-cublas-cu12\n",
            "    Found existing installation: nvidia-cublas-cu12 12.5.3.2\n",
            "    Uninstalling nvidia-cublas-cu12-12.5.3.2:\n",
            "      Successfully uninstalled nvidia-cublas-cu12-12.5.3.2\n",
            "  Attempting uninstall: nvidia-cusparse-cu12\n",
            "    Found existing installation: nvidia-cusparse-cu12 12.5.1.3\n",
            "    Uninstalling nvidia-cusparse-cu12-12.5.1.3:\n",
            "      Successfully uninstalled nvidia-cusparse-cu12-12.5.1.3\n",
            "  Attempting uninstall: nvidia-cudnn-cu12\n",
            "    Found existing installation: nvidia-cudnn-cu12 9.3.0.75\n",
            "    Uninstalling nvidia-cudnn-cu12-9.3.0.75:\n",
            "      Successfully uninstalled nvidia-cudnn-cu12-9.3.0.75\n",
            "  Attempting uninstall: nvidia-cusolver-cu12\n",
            "    Found existing installation: nvidia-cusolver-cu12 11.6.3.83\n",
            "    Uninstalling nvidia-cusolver-cu12-11.6.3.83:\n",
            "      Successfully uninstalled nvidia-cusolver-cu12-11.6.3.83\n",
            "Successfully installed nvidia-cublas-cu12-12.4.5.8 nvidia-cuda-cupti-cu12-12.4.127 nvidia-cuda-nvrtc-cu12-12.4.127 nvidia-cuda-runtime-cu12-12.4.127 nvidia-cudnn-cu12-9.1.0.70 nvidia-cufft-cu12-11.2.1.3 nvidia-curand-cu12-10.3.5.147 nvidia-cusolver-cu12-11.6.1.9 nvidia-cusparse-cu12-12.3.1.170 nvidia-nvjitlink-cu12-12.4.127\n"
          ]
        }
      ],
      "source": [
        "!pip install torch matplotlib numpy tqdm"
      ]
    },
    {
      "cell_type": "code",
      "execution_count": 2,
      "id": "313f5e51",
      "metadata": {
        "id": "313f5e51"
      },
      "outputs": [],
      "source": [
        "import torch\n",
        "import torch.nn as nn\n",
        "import torch.optim as optim\n",
        "import matplotlib.pyplot as plt\n",
        "import numpy as np\n",
        "import random\n",
        "import json\n",
        "from tqdm import tqdm\n",
        "from IPython.display import clear_output\n",
        "import matplotlib.animation as animation\n"
      ]
    },
    {
      "cell_type": "code",
      "execution_count": 3,
      "id": "dc3ef661",
      "metadata": {
        "id": "dc3ef661"
      },
      "outputs": [],
      "source": [
        "with open('/content/laminet_10k_curated.json', 'r') as f:\n",
        "    data = json.load(f)\n",
        "\n",
        "themes = sorted(list(set([item['label'] for item in data])))\n",
        "label_to_idx = {label: idx for idx, label in enumerate(themes)}\n",
        "\n",
        "from sentence_transformers import SentenceTransformer\n",
        "encoder = SentenceTransformer('all-MiniLM-L6-v2')\n",
        "\n",
        "sentences = [item['text'] for item in data]\n",
        "embeddings = encoder.encode(sentences, convert_to_tensor=True).cpu()\n",
        "\n"
      ]
    },
    {
      "cell_type": "code",
      "execution_count": 8,
      "id": "e8e51986",
      "metadata": {
        "id": "e8e51986"
      },
      "outputs": [],
      "source": [
        "class FieldPoint(nn.Module):\n",
        "    def __init__(self, embed_dim, device='cpu'):\n",
        "        super().__init__()\n",
        "        self.position = nn.Parameter(torch.randn(embed_dim, device=device))\n",
        "        self.velocity = nn.Parameter(torch.zeros(embed_dim, device=device))\n",
        "        self.mass = nn.Parameter(torch.ones(1, device=device))\n",
        "        self.charge = nn.Parameter(torch.randn(1, device=device))\n",
        "        self.decay_rate = nn.Parameter(torch.abs(torch.randn(1, device=device)))\n",
        "\n",
        "class LaminaField(nn.Module):\n",
        "    def __init__(self, embeddings):\n",
        "        super().__init__()\n",
        "        self.points = nn.ModuleList([FieldPoint(embeddings.shape[1], device=embeddings.device) for _ in range(len(embeddings))])\n",
        "\n",
        "        self.embed_points(embeddings)\n",
        "\n",
        "    def embed_points(self, embeddings):\n",
        "        for point, embed in zip(self.points, embeddings):\n",
        "            point.position.data = embed\n",
        "\n",
        "    def evolve(self, dt=0.01, steps=50, record_positions=False):\n",
        "        trajectory = []\n",
        "        for _ in range(steps):\n",
        "            if record_positions:\n",
        "                current_positions = torch.stack([p.position for p in self.points]).detach().cpu().numpy()\n",
        "                trajectory.append(current_positions)\n",
        "            for idx, point in enumerate(self.points):\n",
        "                net_force = self.compute_net_force(idx)\n",
        "                point.velocity.data = point.velocity.data + net_force * dt\n",
        "                point.position.data = point.position.data + point.velocity.data * dt\n",
        "                point.velocity.data *= (1.0 - point.decay_rate.abs() * dt)\n",
        "        if record_positions:\n",
        "            return trajectory\n",
        "        else:\n",
        "            return None\n",
        "\n",
        "    def compute_net_force(self, idx):\n",
        "        net_force = 0\n",
        "        point = self.points[idx]\n",
        "        for j, other in enumerate(self.points):\n",
        "            if j == idx:\n",
        "                continue\n",
        "            direction = other.position - point.position\n",
        "            distance = direction.norm(p=2) + 1e-6\n",
        "            force_mag = (point.charge * other.charge) / (distance**2)\n",
        "            net_force += (force_mag * direction / distance)\n",
        "        return net_force\n"
      ]
    },
    {
      "cell_type": "code",
      "execution_count": 9,
      "id": "c5a3933f",
      "metadata": {
        "id": "c5a3933f"
      },
      "outputs": [],
      "source": [
        "class LaminetMicro(nn.Module):\n",
        "    def __init__(self, embed_dim=64, output_dim=6):\n",
        "        super().__init__()\n",
        "        self.embedding = nn.Linear(384, embed_dim)\n",
        "\n",
        "        self.decoder = nn.Linear(embed_dim, output_dim)\n",
        "\n",
        "    def forward(self, x, evolution_steps=50, record_positions=False):\n",
        "        x_embed = self.embedding(x)\n",
        "        field = LaminaField(x_embed)\n",
        "        trajectory = field.evolve(steps=evolution_steps, record_positions=record_positions)\n",
        "        final_pos = torch.stack([p.position for p in field.points], dim=0)\n",
        "        output = self.decoder(final_pos.mean(dim=0))\n",
        "        return output, final_pos, trajectory\n"
      ]
    },
    {
      "cell_type": "code",
      "execution_count": 10,
      "id": "66e1cb9d",
      "metadata": {
        "id": "66e1cb9d"
      },
      "outputs": [],
      "source": [
        "def coherence_loss(positions, labels):\n",
        "    loss = 0\n",
        "    count = 0\n",
        "    for i in range(len(labels)):\n",
        "        for j in range(i+1, len(labels)):\n",
        "            same = (labels[i] == labels[j])\n",
        "            dist = (positions[i] - positions[j]).norm()\n",
        "            if same:\n",
        "                loss += dist  # Want same-label points to be closer\n",
        "            else:\n",
        "                loss += (1.0 / (dist + 1e-6))  # Want different-label points to repel\n",
        "            count += 1\n",
        "    return loss / count\n"
      ]
    },
    {
      "cell_type": "code",
      "execution_count": 11,
      "id": "6213f1fc",
      "metadata": {
        "colab": {
          "base_uri": "https://localhost:8080/"
        },
        "id": "6213f1fc",
        "outputId": "71f46487-c612-49d2-e9bd-097122425ce2"
      },
      "outputs": [
        {
          "output_type": "stream",
          "name": "stderr",
          "text": [
            "100%|██████████| 3/3 [00:14<00:00,  4.78s/it]\n"
          ]
        },
        {
          "output_type": "stream",
          "name": "stdout",
          "text": [
            "Epoch 1, Loss: 1.0808\n"
          ]
        },
        {
          "output_type": "stream",
          "name": "stderr",
          "text": [
            "100%|██████████| 3/3 [00:14<00:00,  4.84s/it]\n"
          ]
        },
        {
          "output_type": "stream",
          "name": "stdout",
          "text": [
            "Epoch 2, Loss: 1.2123\n"
          ]
        },
        {
          "output_type": "stream",
          "name": "stderr",
          "text": [
            "100%|██████████| 3/3 [00:14<00:00,  4.91s/it]\n"
          ]
        },
        {
          "output_type": "stream",
          "name": "stdout",
          "text": [
            "Epoch 3, Loss: 1.1057\n"
          ]
        },
        {
          "output_type": "stream",
          "name": "stderr",
          "text": [
            "100%|██████████| 3/3 [00:14<00:00,  4.73s/it]\n"
          ]
        },
        {
          "output_type": "stream",
          "name": "stdout",
          "text": [
            "Epoch 4, Loss: 1.1377\n"
          ]
        },
        {
          "output_type": "stream",
          "name": "stderr",
          "text": [
            "100%|██████████| 3/3 [00:14<00:00,  4.74s/it]"
          ]
        },
        {
          "output_type": "stream",
          "name": "stdout",
          "text": [
            "Epoch 5, Loss: 1.1972\n"
          ]
        },
        {
          "output_type": "stream",
          "name": "stderr",
          "text": [
            "\n"
          ]
        }
      ],
      "source": [
        "device = torch.device(\"cuda\" if torch.cuda.is_available() else \"cpu\")\n",
        "model = LaminetMicro(output_dim=len(themes)).to(device)\n",
        "optimizer = optim.Adam(model.parameters(), lr=1e-3)\n",
        "\n",
        "def generate_batch(batch_size=32):\n",
        "    indices = random.sample(range(len(embeddings)), batch_size)\n",
        "    batch_inputs = embeddings[indices]\n",
        "    batch_labels = torch.tensor([label_to_idx[data[i]['label']] for i in indices])\n",
        "    return batch_inputs.to(device), batch_labels.to(device)\n",
        "\n",
        "\n",
        "epochs = 5\n",
        "batch_size = 32\n",
        "\n",
        "loss_history = []\n",
        "\n",
        "for epoch in range(epochs):\n",
        "    running_loss = 0.0\n",
        "    for _ in tqdm(range(len(data) // batch_size)):\n",
        "        inputs, labels = generate_batch(batch_size)\n",
        "        optimizer.zero_grad()\n",
        "        output, positions, _ = model(inputs, evolution_steps=30)\n",
        "        loss = coherence_loss(positions, labels)\n",
        "        loss.backward()\n",
        "        optimizer.step()\n",
        "        running_loss += loss.item()\n",
        "    avg_loss = running_loss / (len(data) // batch_size)\n",
        "    loss_history.append(avg_loss)\n",
        "    print(f\"Epoch {epoch+1}, Loss: {avg_loss:.4f}\")\n"
      ]
    },
    {
      "cell_type": "code",
      "execution_count": 12,
      "id": "e2b70101",
      "metadata": {
        "colab": {
          "base_uri": "https://localhost:8080/",
          "height": 472
        },
        "id": "e2b70101",
        "outputId": "250d0eb6-8581-4635-ef37-d03e42142689"
      },
      "outputs": [
        {
          "output_type": "display_data",
          "data": {
            "text/plain": [
              "<Figure size 640x480 with 1 Axes>"
            ],
            "image/png": "[encoded data removed]"
          },
          "metadata": {}
        }
      ],
      "source": [
        "plt.plot(loss_history)\n",
        "plt.xlabel('Epoch')\n",
        "plt.ylabel('Loss')\n",
        "plt.title('Training Loss')\n",
        "plt.show()\n"
      ]
    },
    {
      "cell_type": "code",
      "execution_count": 13,
      "id": "a824137c",
      "metadata": {
        "colab": {
          "base_uri": "https://localhost:8080/",
          "height": 540
        },
        "id": "a824137c",
        "outputId": "9548c19d-474d-43f8-f3d5-aa42a53de523"
      },
      "outputs": [
        {
          "output_type": "display_data",
          "data": {
            "text/plain": [
              "<Figure size 600x600 with 1 Axes>"
            ],
            "image/png": "[encoded data removed]"
          },
          "metadata": {}
        },
        {
          "output_type": "execute_result",
          "data": {
            "text/plain": [
              "<matplotlib.animation.FuncAnimation at 0x7a3ee1bc9d50>"
            ]
          },
          "metadata": {},
          "execution_count": 13
        }
      ],
      "source": [
        "def animate_field(trajectory, labels, label_to_color):\n",
        "    fig, ax = plt.subplots(figsize=(6,6))\n",
        "    scat = ax.scatter([], [], c=[])\n",
        "\n",
        "    def init():\n",
        "        ax.set_xlim(-5,5)\n",
        "        ax.set_ylim(-5,5)\n",
        "        return scat,\n",
        "\n",
        "    def update(frame):\n",
        "        positions = trajectory[frame]\n",
        "        if positions.shape[1] > 2:\n",
        "            positions = positions[:, :2]\n",
        "        colors = [label_to_color[lbl] for lbl in labels]\n",
        "        scat.set_offsets(positions)\n",
        "        scat.set_color(colors)\n",
        "        return scat,\n",
        "\n",
        "    ani = animation.FuncAnimation(fig, update, frames=len(trajectory), init_func=init, blit=True)\n",
        "    plt.show()\n",
        "    return ani\n",
        "\n",
        "# Visualize after training\n",
        "batch = random.sample(data, 32)\n",
        "inputs = torch.randn(32, 128).to(device)\n",
        "batch_labels = [item['label'] for item in batch]\n",
        "theme_colors = {\n",
        "    'Discovery': 'green',\n",
        "    'Love Story': 'pink',\n",
        "    'Mystery': 'purple',\n",
        "    'Quest': 'blue',\n",
        "    'Revenge': 'red',\n",
        "    'Science': 'orange'\n",
        "}\n",
        "\n",
        "torch.save(model.state_dict(), 'laminet_micro_trained.pt')\n",
        "\n",
        "\n",
        "model.eval()\n",
        "with torch.no_grad():\n",
        "    output, _, trajectory = model(inputs, evolution_steps=50, record_positions=True)\n",
        "animate_field(trajectory, batch_labels, theme_colors)\n"
      ]
    }
  ],
  "metadata": {
    "colab": {
      "provenance": [],
      "gpuType": "T4"
    },
    "accelerator": "GPU",
    "language_info": {
      "name": "python"
    },
    "kernelspec": {
      "name": "python3",
      "display_name": "Python 3"
    }
  },
  "nbformat": 4,
  "nbformat_minor": 5
}